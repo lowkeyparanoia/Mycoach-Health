{
 "cells": [
  {
   "cell_type": "code",
   "execution_count": 1,
   "metadata": {},
   "outputs": [
    {
     "ename": "SyntaxError",
     "evalue": "invalid syntax (3022073694.py, line 7)",
     "output_type": "error",
     "traceback": [
      "\u001b[1;36m  Cell \u001b[1;32mIn[1], line 7\u001b[1;36m\u001b[0m\n\u001b[1;33m    import pytesseract as\u001b[0m\n\u001b[1;37m                          ^\u001b[0m\n\u001b[1;31mSyntaxError\u001b[0m\u001b[1;31m:\u001b[0m invalid syntax\n"
     ]
    }
   ],
   "source": [
    "import transformers \n",
    "import re, json, langchain, llama_index\n",
    "import pandas as pd\n",
    "import scipy as sp\n",
    "\n",
    "# Use Pytesseract to extract text data from image\n",
    "import pytesseract as pt\n",
    "import kor\n",
    "\n",
    "from langchain.document_loaders import TextLoader\n",
    "from langchain.chains.summarize import load_summarize_chain\n",
    "from langchain.text_splitter import RecursiveCharacterTextSplitter\n",
    "from langchain import OpenAI\n",
    "from langchain.chat_models import ChatOpenAI\n",
    "from langchain.chains import create_extraction_chain, create_extraction_chain_pydantic\n",
    "from langchain.prompts import ChatPromptTemplate\n",
    "\n",
    "import os, re\n",
    "import kor\n",
    "import spacy\n",
    "import scispacy\n",
    "import en_core_sci_lg\n",
    "\n",
    "nlp = en_core_sci_lg.load()\n",
    "\n",
    "#How to optimise and create knowledge graph using neo4j ?\n",
    "Openai_api_key = os.getenv('OPENAI_API_KEY')\n",
    "llm = ChatOpenAI(temperature=0.1, model=\"gpt-3.5-turbo-0613\", openai_api_key=Openai_api_key)\n",
    "\n",
    "# Load the model\n"
   ]
  },
  {
   "attachments": {},
   "cell_type": "markdown",
   "metadata": {},
   "source": [
    "**OCR Part"
   ]
  },
  {
   "cell_type": "code",
   "execution_count": null,
   "metadata": {},
   "outputs": [],
   "source": [
    "kor.download(\"gpt4\")"
   ]
  },
  {
   "cell_type": "code",
   "execution_count": null,
   "metadata": {},
   "outputs": [],
   "source": [
    "import os\n",
    "import pytesseract\n",
    "from PIL import Image\n",
    "\n",
    "# Set the directory path where your images are stored\n",
    "directory = r'img_path'\n",
    "\n",
    "\n",
    "# Loop through the images in the directory\n",
    "for filename in os.listdir(directory):\n",
    "    if filename.endswith('.jpg'):\n",
    "        image_path = os.path.join(directory, filename)\n",
    "\n",
    "        # Open the image using PIL\n",
    "        image = Image.open(image_path)\n",
    "\n",
    "        # Preprocess the image (example: resizing)\n",
    "        image = image.resize((800, 600))  # Adjust the dimensions as needed\n",
    "\n",
    "        # Perform OCR using Pytesseract with modified parameters\n",
    "        extracted_text = pytesseract.image_to_string(image, lang='eng', config='--psm 6 --oem 1')\n",
    "\n",
    "        # Print the extracted text\n",
    "        print(f\"Extracted text from {filename}:\")\n",
    "        print(extracted_text)\n",
    "        print('-' * 20)\n",
    "\n",
    "\n",
    "# Function to structure the data into key-value pairs\n",
    "def structure_data(extracted_text):\n",
    "    # Use the Kor framework for NER\n",
    "    nlp = kor.get_nlp()\n",
    "\n",
    "    # Process the extracted text\n",
    "    doc = nlp(extracted_text)\n",
    "\n",
    "    # Initialize a dictionary to store the key-value pairs\n",
    "    data = {}\n",
    "\n",
    "    # Extract named entities and their labels\n",
    "    for ent in doc.ents:\n",
    "        label = ent.label_\n",
    "        text = ent.text\n",
    "\n",
    "        # Assign the entity to the appropriate key\n",
    "        if label not in data:\n",
    "            data[label] = [text]\n",
    "        else:\n",
    "            data[label].append(text)\n",
    "\n",
    "    # Return the structured data as a JSON object\n",
    "    return data\n",
    "\n",
    "# Example usage\n",
    "extracted_text = \"...\"\n",
    "structured_data = structure_data(extracted_text)\n",
    "print(structured_data)"
   ]
  },
  {
   "cell_type": "markdown",
   "metadata": {},
   "source": []
  },
  {
   "cell_type": "code",
   "execution_count": null,
   "metadata": {},
   "outputs": [],
   "source": []
  },
  {
   "cell_type": "code",
   "execution_count": null,
   "metadata": {},
   "outputs": [],
   "source": []
  }
 ],
 "metadata": {
  "kernelspec": {
   "display_name": "Python 3",
   "language": "python",
   "name": "python3"
  },
  "language_info": {
   "codemirror_mode": {
    "name": "ipython",
    "version": 3
   },
   "file_extension": ".py",
   "mimetype": "text/x-python",
   "name": "python",
   "nbconvert_exporter": "python",
   "pygments_lexer": "ipython3",
   "version": "3.11.0"
  },
  "orig_nbformat": 4
 },
 "nbformat": 4,
 "nbformat_minor": 2
}
